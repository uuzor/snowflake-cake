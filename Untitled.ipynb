{
 "cells": [
  {
   "cell_type": "code",
   "execution_count": 18,
   "id": "e9346e73-9947-4918-b542-c1b2a961a9c4",
   "metadata": {},
   "outputs": [
    {
     "data": {
      "text/plain": [
       "True"
      ]
     },
     "execution_count": 18,
     "metadata": {},
     "output_type": "execute_result"
    }
   ],
   "source": [
    "import os\n",
    "from dotenv import load_dotenv\n",
    "\n",
    "load_dotenv()"
   ]
  },
  {
   "cell_type": "code",
   "execution_count": 17,
   "id": "ee5c4af4-a6f6-458c-b062-dcdc91f92a8e",
   "metadata": {},
   "outputs": [
    {
     "name": "stdout",
     "output_type": "stream",
     "text": [
      "holxxkj-bp66423\n"
     ]
    }
   ],
   "source": [
    "print(os.getenv(\"ACCOUNT\"))"
   ]
  },
  {
   "cell_type": "code",
   "execution_count": 3,
   "id": "1f624879-909a-4b41-8903-2a1dfd751519",
   "metadata": {},
   "outputs": [],
   "source": [
    "from snowflake.snowpark import Session"
   ]
  },
  {
   "cell_type": "code",
   "execution_count": 19,
   "id": "43a03699-b3ce-437f-bed6-1d969c028d1a",
   "metadata": {},
   "outputs": [],
   "source": [
    "connection_parameters = {\n",
    "   \"account\": os.getenv(\"ACCOUNT\"),\n",
    "   \"user\": os.getenv(\"USERNAME\"),\n",
    "   \"password\": os.getenv(\"PASSWORD\"),\n",
    "   }\n",
    "\n",
    "new_session = Session.builder.configs(connection_parameters).create()"
   ]
  },
  {
   "cell_type": "code",
   "execution_count": 20,
   "id": "2aec246f-0f43-4f5e-95ff-31f5d44b5d0c",
   "metadata": {},
   "outputs": [
    {
     "name": "stdout",
     "output_type": "stream",
     "text": [
      "<snowflake.snowpark.session.Session: account=\"holxxkj-bp66423\", role=\"ACCOUNTADMIN\", database=None, schema=None, warehouse=\"COMPUTE_WH\">\n"
     ]
    }
   ],
   "source": [
    "print(new_session)"
   ]
  },
  {
   "cell_type": "code",
   "execution_count": null,
   "id": "cf6a0ce5-c39c-428f-9266-818f2009feed",
   "metadata": {},
   "outputs": [],
   "source": []
  }
 ],
 "metadata": {
  "kernelspec": {
   "display_name": "Python 3 (ipykernel)",
   "language": "python",
   "name": "python3"
  },
  "language_info": {
   "codemirror_mode": {
    "name": "ipython",
    "version": 3
   },
   "file_extension": ".py",
   "mimetype": "text/x-python",
   "name": "python",
   "nbconvert_exporter": "python",
   "pygments_lexer": "ipython3",
   "version": "3.9.20"
  }
 },
 "nbformat": 4,
 "nbformat_minor": 5
}
